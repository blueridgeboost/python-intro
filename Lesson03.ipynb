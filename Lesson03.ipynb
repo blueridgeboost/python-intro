{
 "cells": [
  {
   "cell_type": "markdown",
   "id": "38c64d08-5ca6-47a5-b3b0-979b1ba784ee",
   "metadata": {},
   "source": [
    "# Hello World"
   ]
  },
  {
   "cell_type": "markdown",
   "id": "4267c3ab-94f9-4836-a86d-8b2d6b48b3a8",
   "metadata": {},
   "source": [
    "Run the code below by selecting the cell and pushing the play button above. \n",
    "Ask the instructor for help if you have difficulty understaning the instructions."
   ]
  },
  {
   "cell_type": "code",
   "execution_count": 1,
   "id": "e1c690c2-bd30-4c78-82e7-70df5f67c96c",
   "metadata": {},
   "outputs": [
    {
     "name": "stdout",
     "output_type": "stream",
     "text": [
      "Hello world! I am Nora\n"
     ]
    }
   ],
   "source": [
    "print(\"Hello world! I am Nora\")"
   ]
  },
  {
   "cell_type": "markdown",
   "id": "c0585fca-b74d-48b9-a4cc-3ae2b5118500",
   "metadata": {},
   "source": [
    "Think about how you would change the code to say your name. Try your hypotheses in the box below."
   ]
  },
  {
   "cell_type": "code",
   "execution_count": null,
   "id": "05b6c12f-e74e-4b4b-9362-f48b8e63b395",
   "metadata": {},
   "outputs": [],
   "source": []
  },
  {
   "cell_type": "markdown",
   "id": "f0c1cd65-4047-4ba9-96f6-fe31e5816b0b",
   "metadata": {},
   "source": [
    "## Comments\n",
    "\n",
    "Sometimes, we want to leave notes to our future selves to make remembering what the code does easier. \n",
    "Professional programmers used the comments to explain what the code does so that users of their code know what to do and to make it easier for other programmers who might need to change their code later.\n",
    "Below is an example of a comment used by the teacher to tell you what the exercise asks.\n",
    "Complete the exercise by following the instructions given inn the comment."
   ]
  },
  {
   "cell_type": "code",
   "execution_count": 2,
   "id": "0767cc63-046e-4efe-9646-8fe1dc83f62a",
   "metadata": {},
   "outputs": [],
   "source": [
    "# Write code to print a message of your choice.\n",
    "\n",
    "\n"
   ]
  },
  {
   "cell_type": "markdown",
   "id": "869a175e-7863-4f04-a4c4-01d7be63054b",
   "metadata": {},
   "source": [
    "Comments start with a hashtag and continue to the end of the line. \n",
    "If the comment is broken into multiple lines, you have to add a hashtag on both lines."
   ]
  },
  {
   "cell_type": "code",
   "execution_count": null,
   "id": "476c1706-d94e-4c62-9d98-7565c64d3597",
   "metadata": {},
   "outputs": [],
   "source": [
    "# Write two commands to tell us something about yourself.\n",
    "# For example, you can write two lines like below.\n",
    "# I love coding.\n",
    "# I play basketball.\n",
    "\n",
    "\n",
    "\n"
   ]
  },
  {
   "cell_type": "markdown",
   "id": "46642961-4522-4b9c-a64e-145bed8e4310",
   "metadata": {},
   "source": [
    "## Output\n",
    "\n",
    "Output is what we can see as a result of the execution. The text you see on the screen after running the code is output."
   ]
  },
  {
   "cell_type": "markdown",
   "id": "f9481d97-a9e6-44ad-8179-5adb54eb2faf",
   "metadata": {},
   "source": [
    "## Variables\n",
    "\n",
    "Variables are names for places in the computer's memory where the data is stored for later use.\n",
    "\n",
    "A simple analogy for a variable is a labeled box with the variable's name. Inside the box, there is a piece of paper with the data written on it. There are two things you can do with that piece of paper. You can read it and put it back. Also, you can erase its content and write something new.\n",
    "\n",
    "First, we have to label a box to be able to find it. To ensure that the box is not empty, Python requires us to also tell the computer what the initial value of the variable is."
   ]
  },
  {
   "cell_type": "code",
   "execution_count": 3,
   "id": "85289848-d425-4d54-8000-a895bb752d8c",
   "metadata": {},
   "outputs": [
    {
     "name": "stdout",
     "output_type": "stream",
     "text": [
      "Nora\n",
      "Ana\n"
     ]
    }
   ],
   "source": [
    "# This line tells the computer to create a box labeled x with initial value Nora\n",
    "name = \"Nora\"\n",
    "# This line tells the computer to look into the box to find the name, and then prints it to the screen\n",
    "print(name)\n",
    "# This line tells the computer to write Ana in the variable name\n",
    "name = \"Ana\"\n",
    "# This line tells the computer to look into the box to find the name, and then prints it to the screen\n",
    "print(name)"
   ]
  },
  {
   "cell_type": "markdown",
   "id": "b3c3a7d2-0f8b-4d82-b0a9-73578886b817",
   "metadata": {},
   "source": [
    "Now it is your turn to practice. Complete the code below as instructed in the comments."
   ]
  },
  {
   "cell_type": "code",
   "execution_count": null,
   "id": "9690a070-2fbf-452f-80c3-d65433298cf6",
   "metadata": {},
   "outputs": [],
   "source": [
    "# Define a variable named meal with the value of what you had for breakfast yesterday. \n",
    "# Your goes code here!\n",
    "print(\"Breakfast:\")\n",
    "# print the value of the meal variable.\n",
    "# Your goes code here!\n",
    "\n",
    "# Now update the meal variable to describe what you had for lunch yesterday.\n",
    "# Your goes code here!\n",
    "# Printing out lunch\n",
    "print(\"Lunch:\")\n",
    "# print the value of the meal variable.\n",
    "# Your goes code here!\n",
    "\n",
    "# Now update the meal variable to describe what you had for dinner yesterday.\n",
    "# Your goes code here!\n",
    "# Printing out dinner\n",
    "# print the value of the meal variable.\n",
    "# Your goes code here!"
   ]
  },
  {
   "cell_type": "markdown",
   "id": "3f508133-83cd-455e-a8f9-1e8188381035",
   "metadata": {},
   "source": [
    "For the rest of the class, create your own challenges and solve them."
   ]
  },
  {
   "cell_type": "code",
   "execution_count": null,
   "id": "677b4d8a-1641-4aca-aaf9-18c75c2c394d",
   "metadata": {},
   "outputs": [],
   "source": [
    "# Challenge 1\n",
    "\n",
    "\n",
    "\n",
    "\n",
    "\n",
    "\n"
   ]
  },
  {
   "cell_type": "code",
   "execution_count": null,
   "id": "09386361-3225-47e5-9b46-6e8f880cfe2a",
   "metadata": {},
   "outputs": [],
   "source": [
    "# Challenge 2\n",
    "\n",
    "\n",
    "\n",
    "\n",
    "\n",
    "\n"
   ]
  },
  {
   "cell_type": "code",
   "execution_count": null,
   "id": "e3f9b0de-9d8c-452a-ab7e-4bb764ec7e41",
   "metadata": {},
   "outputs": [],
   "source": [
    "# Challenge 3\n",
    "\n",
    "\n",
    "\n",
    "\n",
    "\n",
    "\n"
   ]
  },
  {
   "cell_type": "code",
   "execution_count": null,
   "id": "c06f1f06-8401-4e9b-a29a-f3fd02fcd6d9",
   "metadata": {},
   "outputs": [],
   "source": [
    "# Challenge 4\n",
    "\n",
    "\n",
    "\n",
    "\n",
    "\n",
    "\n"
   ]
  },
  {
   "cell_type": "code",
   "execution_count": null,
   "id": "60d255df-c90b-4869-8b19-e49afa5d418f",
   "metadata": {},
   "outputs": [],
   "source": [
    "# Challenge 5\n",
    "\n",
    "\n",
    "\n",
    "\n",
    "\n",
    "\n"
   ]
  },
  {
   "cell_type": "code",
   "execution_count": null,
   "id": "7fc36e8a-d351-4c4b-a7c0-412f91a5b44f",
   "metadata": {},
   "outputs": [],
   "source": [
    "# Challenge 6\n",
    "\n",
    "\n",
    "\n",
    "\n",
    "\n",
    "\n"
   ]
  }
 ],
 "metadata": {
  "kernelspec": {
   "display_name": "Python 3 (ipykernel)",
   "language": "python",
   "name": "python3"
  },
  "language_info": {
   "codemirror_mode": {
    "name": "ipython",
    "version": 3
   },
   "file_extension": ".py",
   "mimetype": "text/x-python",
   "name": "python",
   "nbconvert_exporter": "python",
   "pygments_lexer": "ipython3",
   "version": "3.11.5"
  }
 },
 "nbformat": 4,
 "nbformat_minor": 5
}
